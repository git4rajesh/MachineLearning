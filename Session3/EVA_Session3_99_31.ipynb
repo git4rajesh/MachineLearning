{
  "nbformat": 4,
  "nbformat_minor": 0,
  "metadata": {
    "colab": {
      "name": "EVA_Session3_99.31.ipynb",
      "version": "0.3.2",
      "provenance": [],
      "collapsed_sections": []
    },
    "kernelspec": {
      "name": "python3",
      "display_name": "Python 3"
    },
    "accelerator": "GPU"
  },
  "cells": [
    {
      "cell_type": "markdown",
      "metadata": {
        "id": "aNyZv-Ec52ot",
        "colab_type": "text"
      },
      "source": [
        "# **Import Libraries and modules**"
      ]
    },
    {
      "cell_type": "code",
      "metadata": {
        "id": "3m3w1Cw49Zkt",
        "colab_type": "code",
        "outputId": "37df864b-b298-4171-be5b-d0a0f2d4b5d9",
        "colab": {
          "base_uri": "https://localhost:8080/",
          "height": 34
        }
      },
      "source": [
        "# https://keras.io/\n",
        "# Keras is a high-level neural networks API, written in Python and capable of running on top of TensorFlow, CNTK, or Theano.\n",
        "# Performing pip installation of Keras and then importing it\n",
        "\n",
        "!pip install -q keras\n",
        "import keras"
      ],
      "execution_count": 0,
      "outputs": [
        {
          "output_type": "stream",
          "text": [
            "Using TensorFlow backend.\n"
          ],
          "name": "stderr"
        }
      ]
    },
    {
      "cell_type": "markdown",
      "metadata": {
        "id": "1EUGr-fAD3qO",
        "colab_type": "text"
      },
      "source": [
        "## Importing Desired Modules and Classes for this Mode"
      ]
    },
    {
      "cell_type": "code",
      "metadata": {
        "id": "Eso6UHE080D4",
        "colab_type": "code",
        "colab": {}
      },
      "source": [
        "# Used for scientific computing in Python\n",
        "import numpy as np\n",
        "\n",
        "# Used to create models layer-by-layer\n",
        "from keras.models import Sequential\n",
        "\n",
        "# Different layer modules from keras\n",
        "from keras.layers import Dense, Dropout, Activation, Flatten, Add\n",
        "\n",
        "# Used to create a convolution kernel that is convolved with the layer input to produce a tensor of outputs and also for Maxpooling\n",
        "from keras.layers import Convolution2D, MaxPooling2D\n",
        "\n",
        "# Used for Array and list manipulation\n",
        "from keras.utils import np_utils\n",
        "\n",
        "# The MNIST dataset is one of the most common datasets used for image classification \n",
        "# taken from American Census Bureau employees and American high school students\n",
        "from keras.datasets import mnist"
      ],
      "execution_count": 0,
      "outputs": []
    },
    {
      "cell_type": "markdown",
      "metadata": {
        "id": "zByEi95J86RD",
        "colab_type": "text"
      },
      "source": [
        "### Load pre-shuffled MNIST data into train and test sets"
      ]
    },
    {
      "cell_type": "code",
      "metadata": {
        "id": "7eRM0QWN83PV",
        "colab_type": "code",
        "outputId": "55029ed9-5217-4fb1-afa3-1a41077da909",
        "colab": {
          "base_uri": "https://localhost:8080/",
          "height": 50
        }
      },
      "source": [
        "# Loading dataset of 60,000 28x28 grayscale images of the 10 digits, along with a test set of 10,000 images.\n",
        "(X_train, y_train), (X_test, y_test) = mnist.load_data()"
      ],
      "execution_count": 0,
      "outputs": [
        {
          "output_type": "stream",
          "text": [
            "Downloading data from https://s3.amazonaws.com/img-datasets/mnist.npz\n",
            "11493376/11490434 [==============================] - 1s 0us/step\n"
          ],
          "name": "stdout"
        }
      ]
    },
    {
      "cell_type": "markdown",
      "metadata": {
        "id": "3lawStjsEiMm",
        "colab_type": "text"
      },
      "source": [
        "## Importing and demoing the purpose of Matpotlib"
      ]
    },
    {
      "cell_type": "code",
      "metadata": {
        "id": "4a4Be72j8-ZC",
        "colab_type": "code",
        "outputId": "f634959a-139b-4060-86b8-c29147c62f4e",
        "colab": {
          "base_uri": "https://localhost:8080/",
          "height": 302
        }
      },
      "source": [
        "print (X_train.shape)\n",
        "from matplotlib import pyplot as plt\n",
        "%matplotlib inline\n",
        "plt.imshow(X_train[0])"
      ],
      "execution_count": 0,
      "outputs": [
        {
          "output_type": "stream",
          "text": [
            "(60000, 28, 28)\n"
          ],
          "name": "stdout"
        },
        {
          "output_type": "execute_result",
          "data": {
            "text/plain": [
              "<matplotlib.image.AxesImage at 0x7f980083fcc0>"
            ]
          },
          "metadata": {
            "tags": []
          },
          "execution_count": 4
        },
        {
          "output_type": "display_data",
          "data": {
            "image/png": "[encoded data removed]",
            "text/plain": [
              "<Figure size 432x288 with 1 Axes>"
            ]
          },
          "metadata": {
            "tags": []
          }
        }
      ]
    },
    {
      "cell_type": "markdown",
      "metadata": {
        "id": "3pDfIMV7En6E",
        "colab_type": "text"
      },
      "source": [
        "## Reshaping the 'X' Training and Test Data to be compatible with Convolution2D"
      ]
    },
    {
      "cell_type": "code",
      "metadata": {
        "id": "dkmprriw9AnZ",
        "colab_type": "code",
        "colab": {}
      },
      "source": [
        "X_train = X_train.reshape(X_train.shape[0], 28, 28,1)\n",
        "X_test = X_test.reshape(X_test.shape[0], 28, 28,1)"
      ],
      "execution_count": 0,
      "outputs": []
    },
    {
      "cell_type": "markdown",
      "metadata": {
        "id": "No0WK3OGEreV",
        "colab_type": "text"
      },
      "source": [
        "## Scaling or Normalizing the inputs"
      ]
    },
    {
      "cell_type": "code",
      "metadata": {
        "id": "X2m4YS4E9CRh",
        "colab_type": "code",
        "colab": {}
      },
      "source": [
        "# It is most common to use 32-bit precision when training a neural network\n",
        "# Since the dataset fits easily in RAM, we might as well convert to float immediately.\n",
        "X_train = X_train.astype('float32')\n",
        "X_test = X_test.astype('float32')\n",
        "\n",
        "# 255 is the maximum value of a byte and this division will ensure that the input features are scaled between 0.0 and 1.0\n",
        "X_train /= 255\n",
        "X_test /= 255"
      ],
      "execution_count": 0,
      "outputs": []
    },
    {
      "cell_type": "code",
      "metadata": {
        "id": "0Mn0vAYD9DvB",
        "colab_type": "code",
        "outputId": "9d9669a9-a409-4440-8ae7-750dc7ecbcba",
        "colab": {
          "base_uri": "https://localhost:8080/",
          "height": 34
        }
      },
      "source": [
        "y_train[:10]"
      ],
      "execution_count": 0,
      "outputs": [
        {
          "output_type": "execute_result",
          "data": {
            "text/plain": [
              "array([5, 0, 4, 1, 9, 2, 1, 3, 1, 4], dtype=uint8)"
            ]
          },
          "metadata": {
            "tags": []
          },
          "execution_count": 7
        }
      ]
    },
    {
      "cell_type": "code",
      "metadata": {
        "id": "ZG8JiXR39FHC",
        "colab_type": "code",
        "colab": {}
      },
      "source": [
        "# Convert 1-dimensional class arrays to 10-dimensional class matrices\n",
        "# to_categorical converts this into a matrix with as many columns as there are classes\n",
        "\n",
        "Y_train = np_utils.to_categorical(y_train, 10)\n",
        "Y_test = np_utils.to_categorical(y_test, 10)"
      ],
      "execution_count": 0,
      "outputs": []
    },
    {
      "cell_type": "code",
      "metadata": {
        "id": "fYlFRvKS9HMB",
        "colab_type": "code",
        "outputId": "7eb53d2d-8a69-4af7-8dad-b9afcf2dad52",
        "colab": {
          "base_uri": "https://localhost:8080/",
          "height": 185
        }
      },
      "source": [
        "Y_train[:10]\n"
      ],
      "execution_count": 0,
      "outputs": [
        {
          "output_type": "execute_result",
          "data": {
            "text/plain": [
              "array([[0., 0., 0., 0., 0., 1., 0., 0., 0., 0.],\n",
              "       [1., 0., 0., 0., 0., 0., 0., 0., 0., 0.],\n",
              "       [0., 0., 0., 0., 1., 0., 0., 0., 0., 0.],\n",
              "       [0., 1., 0., 0., 0., 0., 0., 0., 0., 0.],\n",
              "       [0., 0., 0., 0., 0., 0., 0., 0., 0., 1.],\n",
              "       [0., 0., 1., 0., 0., 0., 0., 0., 0., 0.],\n",
              "       [0., 1., 0., 0., 0., 0., 0., 0., 0., 0.],\n",
              "       [0., 0., 0., 1., 0., 0., 0., 0., 0., 0.],\n",
              "       [0., 1., 0., 0., 0., 0., 0., 0., 0., 0.],\n",
              "       [0., 0., 0., 0., 1., 0., 0., 0., 0., 0.]], dtype=float32)"
            ]
          },
          "metadata": {
            "tags": []
          },
          "execution_count": 9
        }
      ]
    },
    {
      "cell_type": "markdown",
      "metadata": {
        "id": "1Po1Eu5fE9SM",
        "colab_type": "text"
      },
      "source": [
        "## The Model"
      ]
    },
    {
      "cell_type": "code",
      "metadata": {
        "id": "osKqT73Q9JJB",
        "colab_type": "code",
        "outputId": "91f39e9d-161c-483a-a786-e46fb870ecd4",
        "colab": {
          "base_uri": "https://localhost:8080/",
          "height": 406
        }
      },
      "source": [
        "from keras.layers import Activation\n",
        "\n",
        "# instantiating a model of type Sequential\n",
        "model = Sequential()\n",
        "\n",
        "# adding a convolution layer with input image 28,28,1 with 32 kernels of 3 *3 \n",
        "# also performing an activation of type 'rectified linear Unit'\n",
        "\n",
        "model.add(Convolution2D(16, 3, 3, activation='relu', input_shape=(28,28,1)))\n",
        "print(model.output_shape)\n",
        "\n",
        "# CONVOLUTION BLOCK 1 BEGINS\n",
        "model.add(Convolution2D(16, 3, 3, activation='relu'))\n",
        "print(model.output_shape)\n",
        "model.add(Convolution2D(20, 3, 3, activation='relu'))\n",
        "print(model.output_shape)\n",
        "model.add(Convolution2D(32, 3, 3, activation='relu'))\n",
        "print(model.output_shape)\n",
        "# CONVOLUTION BLOCK 1 ENDS\n",
        "\n",
        "# TRANSITION BLOCK 1 BEGINS\n",
        "model.add(MaxPooling2D(pool_size=(2, 2)))\n",
        "# drop out layer\n",
        "# model.add(Dropout(0.4))\n",
        "model.add(Convolution2D(16, 1, 1))\n",
        "print(model.output_shape)\n",
        "# TRANSITION BLOCK 1 ENDS\n",
        "\n",
        "\n",
        "# CONVOLUTION BLOCK 2 BEGINS\n",
        "model.add(Convolution2D(16, 3, 3, activation='relu'))\n",
        "print(model.output_shape)\n",
        "model.add(Convolution2D(24, 3, 3, activation='relu'))\n",
        "print(model.output_shape)\n",
        "# CONVOLUTION BLOCK 2 ENDS\n",
        "\n",
        "\n",
        "# TRANSITION BLOCK 2 BEGINS\n",
        "model.add(MaxPooling2D(pool_size=(2, 2)))\n",
        "# drop out layer added\n",
        "model.add(Dropout(0.4))\n",
        "\n",
        "model.add(Convolution2D(16,1,1))\n",
        "print(model.output_shape)\n",
        "# TRANSITION BLOCK 2 ENDS\n",
        "\n",
        "\n",
        "model.add(Convolution2D(10, 3, 3, activation='relu'))\n",
        "print(model.output_shape)\n",
        "\n",
        "# We need to convert the multidimensional tensor into a single 1-D tensor, so we use Flatten\n",
        "model.add(Flatten()) #input channel = (1,1,10)\n",
        "\n",
        "# softmax calculates the probabilities of each target class over all possible target classes\n",
        "model.add(Activation('softmax'))"
      ],
      "execution_count": 0,
      "outputs": [
        {
          "output_type": "stream",
          "text": [
            "(None, 26, 26, 16)\n",
            "(None, 24, 24, 16)\n",
            "(None, 22, 22, 20)\n",
            "(None, 20, 20, 32)\n",
            "(None, 10, 10, 16)\n",
            "(None, 8, 8, 16)\n",
            "(None, 6, 6, 24)\n",
            "(None, 3, 3, 16)\n",
            "(None, 1, 1, 10)\n"
          ],
          "name": "stdout"
        },
        {
          "output_type": "stream",
          "text": [
            "/usr/local/lib/python3.6/dist-packages/ipykernel_launcher.py:5: UserWarning: Update your `Conv2D` call to the Keras 2 API: `Conv2D(16, (3, 3), activation=\"relu\", input_shape=(28, 28, 1...)`\n",
            "  \"\"\"\n",
            "/usr/local/lib/python3.6/dist-packages/ipykernel_launcher.py:9: UserWarning: Update your `Conv2D` call to the Keras 2 API: `Conv2D(16, (3, 3), activation=\"relu\")`\n",
            "  if __name__ == '__main__':\n",
            "/usr/local/lib/python3.6/dist-packages/ipykernel_launcher.py:11: UserWarning: Update your `Conv2D` call to the Keras 2 API: `Conv2D(20, (3, 3), activation=\"relu\")`\n",
            "  # This is added back by InteractiveShellApp.init_path()\n",
            "/usr/local/lib/python3.6/dist-packages/ipykernel_launcher.py:13: UserWarning: Update your `Conv2D` call to the Keras 2 API: `Conv2D(32, (3, 3), activation=\"relu\")`\n",
            "  del sys.path[0]\n",
            "/usr/local/lib/python3.6/dist-packages/ipykernel_launcher.py:21: UserWarning: Update your `Conv2D` call to the Keras 2 API: `Conv2D(16, (1, 1))`\n",
            "/usr/local/lib/python3.6/dist-packages/ipykernel_launcher.py:27: UserWarning: Update your `Conv2D` call to the Keras 2 API: `Conv2D(16, (3, 3), activation=\"relu\")`\n",
            "/usr/local/lib/python3.6/dist-packages/ipykernel_launcher.py:29: UserWarning: Update your `Conv2D` call to the Keras 2 API: `Conv2D(24, (3, 3), activation=\"relu\")`\n",
            "/usr/local/lib/python3.6/dist-packages/ipykernel_launcher.py:39: UserWarning: Update your `Conv2D` call to the Keras 2 API: `Conv2D(16, (1, 1))`\n",
            "/usr/local/lib/python3.6/dist-packages/ipykernel_launcher.py:44: UserWarning: Update your `Conv2D` call to the Keras 2 API: `Conv2D(10, (3, 3), activation=\"relu\")`\n"
          ],
          "name": "stderr"
        }
      ]
    },
    {
      "cell_type": "code",
      "metadata": {
        "id": "TzdAYg1k9K7Z",
        "colab_type": "code",
        "outputId": "91bcae58-566f-4fc0-af6c-1e8de8ca2728",
        "colab": {
          "base_uri": "https://localhost:8080/",
          "height": 605
        }
      },
      "source": [
        "# prints a summary representation of our model\n",
        "model.summary()"
      ],
      "execution_count": 0,
      "outputs": [
        {
          "output_type": "stream",
          "text": [
            "_________________________________________________________________\n",
            "Layer (type)                 Output Shape              Param #   \n",
            "=================================================================\n",
            "conv2d_127 (Conv2D)          (None, 26, 26, 16)        160       \n",
            "_________________________________________________________________\n",
            "conv2d_128 (Conv2D)          (None, 24, 24, 16)        2320      \n",
            "_________________________________________________________________\n",
            "conv2d_129 (Conv2D)          (None, 22, 22, 20)        2900      \n",
            "_________________________________________________________________\n",
            "conv2d_130 (Conv2D)          (None, 20, 20, 32)        5792      \n",
            "_________________________________________________________________\n",
            "max_pooling2d_29 (MaxPooling (None, 10, 10, 32)        0         \n",
            "_________________________________________________________________\n",
            "conv2d_131 (Conv2D)          (None, 10, 10, 16)        528       \n",
            "_________________________________________________________________\n",
            "conv2d_132 (Conv2D)          (None, 8, 8, 16)          2320      \n",
            "_________________________________________________________________\n",
            "conv2d_133 (Conv2D)          (None, 6, 6, 24)          3480      \n",
            "_________________________________________________________________\n",
            "max_pooling2d_30 (MaxPooling (None, 3, 3, 24)          0         \n",
            "_________________________________________________________________\n",
            "dropout_18 (Dropout)         (None, 3, 3, 24)          0         \n",
            "_________________________________________________________________\n",
            "conv2d_134 (Conv2D)          (None, 3, 3, 16)          400       \n",
            "_________________________________________________________________\n",
            "conv2d_135 (Conv2D)          (None, 1, 1, 10)          1450      \n",
            "_________________________________________________________________\n",
            "flatten_15 (Flatten)         (None, 10)                0         \n",
            "_________________________________________________________________\n",
            "activation_15 (Activation)   (None, 10)                0         \n",
            "=================================================================\n",
            "Total params: 19,350\n",
            "Trainable params: 19,350\n",
            "Non-trainable params: 0\n",
            "_________________________________________________________________\n"
          ],
          "name": "stdout"
        }
      ]
    },
    {
      "cell_type": "markdown",
      "metadata": {
        "id": "dsaBiZ46FeDD",
        "colab_type": "text"
      },
      "source": [
        "## Compiling a Model to Train"
      ]
    },
    {
      "cell_type": "code",
      "metadata": {
        "id": "Zp6SuGrL9M3h",
        "colab_type": "code",
        "colab": {}
      },
      "source": [
        "# Configures the model for training with 3 params which are loss, optimizer and metrics\n",
        "model.compile(loss='categorical_crossentropy',\n",
        "             optimizer='adam',\n",
        "             metrics=['accuracy'])"
      ],
      "execution_count": 0,
      "outputs": []
    },
    {
      "cell_type": "markdown",
      "metadata": {
        "id": "koASpomlFiS8",
        "colab_type": "text"
      },
      "source": [
        "## Training the model for a given number of epochs"
      ]
    },
    {
      "cell_type": "code",
      "metadata": {
        "id": "4xWoKhPY9Of5",
        "colab_type": "code",
        "outputId": "adee9ed9-3ad4-44a4-aff8-0fdb49233e46",
        "colab": {
          "base_uri": "https://localhost:8080/",
          "height": 759
        }
      },
      "source": [
        "# The model is trained for 20 epochs with batch size of 32\n",
        "model.fit(X_train, Y_train, batch_size=32, nb_epoch=20, verbose=1)"
      ],
      "execution_count": 0,
      "outputs": [
        {
          "output_type": "stream",
          "text": [
            "/usr/local/lib/python3.6/dist-packages/ipykernel_launcher.py:1: UserWarning: The `nb_epoch` argument in `fit` has been renamed `epochs`.\n",
            "  \"\"\"Entry point for launching an IPython kernel.\n"
          ],
          "name": "stderr"
        },
        {
          "output_type": "stream",
          "text": [
            "Epoch 1/20\n",
            "60000/60000 [==============================] - 14s 228us/step - loss: 0.3380 - acc: 0.8916\n",
            "Epoch 2/20\n",
            "60000/60000 [==============================] - 13s 222us/step - loss: 0.1076 - acc: 0.9674\n",
            "Epoch 3/20\n",
            "60000/60000 [==============================] - 12s 200us/step - loss: 0.0817 - acc: 0.9749\n",
            "Epoch 4/20\n",
            "60000/60000 [==============================] - 12s 200us/step - loss: 0.0710 - acc: 0.9784\n",
            "Epoch 5/20\n",
            "60000/60000 [==============================] - 12s 200us/step - loss: 0.0626 - acc: 0.9807\n",
            "Epoch 6/20\n",
            "60000/60000 [==============================] - 14s 229us/step - loss: 0.0577 - acc: 0.9818\n",
            "Epoch 7/20\n",
            "60000/60000 [==============================] - 12s 201us/step - loss: 0.0532 - acc: 0.9834\n",
            "Epoch 8/20\n",
            "60000/60000 [==============================] - 13s 214us/step - loss: 0.0490 - acc: 0.9848\n",
            "Epoch 9/20\n",
            "60000/60000 [==============================] - 13s 209us/step - loss: 0.0458 - acc: 0.9864\n",
            "Epoch 10/20\n",
            "60000/60000 [==============================] - 12s 200us/step - loss: 0.0435 - acc: 0.9858\n",
            "Epoch 11/20\n",
            "60000/60000 [==============================] - 12s 200us/step - loss: 0.0412 - acc: 0.9871\n",
            "Epoch 12/20\n",
            "60000/60000 [==============================] - 12s 201us/step - loss: 0.0396 - acc: 0.9879\n",
            "Epoch 13/20\n",
            "60000/60000 [==============================] - 12s 200us/step - loss: 0.0397 - acc: 0.9876\n",
            "Epoch 14/20\n",
            "60000/60000 [==============================] - 12s 201us/step - loss: 0.0382 - acc: 0.9880\n",
            "Epoch 15/20\n",
            "60000/60000 [==============================] - 13s 222us/step - loss: 0.0364 - acc: 0.9887\n",
            "Epoch 16/20\n",
            "60000/60000 [==============================] - 12s 200us/step - loss: 0.0357 - acc: 0.9889\n",
            "Epoch 17/20\n",
            "60000/60000 [==============================] - 12s 201us/step - loss: 0.0337 - acc: 0.9894\n",
            "Epoch 18/20\n",
            "60000/60000 [==============================] - 12s 199us/step - loss: 0.0334 - acc: 0.9896\n",
            "Epoch 19/20\n",
            "60000/60000 [==============================] - 12s 200us/step - loss: 0.0322 - acc: 0.9901\n",
            "Epoch 20/20\n",
            "60000/60000 [==============================] - 12s 200us/step - loss: 0.0300 - acc: 0.9905\n"
          ],
          "name": "stdout"
        },
        {
          "output_type": "execute_result",
          "data": {
            "text/plain": [
              "<keras.callbacks.History at 0x7f97b6ebd9b0>"
            ]
          },
          "metadata": {
            "tags": []
          },
          "execution_count": 86
        }
      ]
    },
    {
      "cell_type": "markdown",
      "metadata": {
        "id": "sRvsIuO2Fr6F",
        "colab_type": "text"
      },
      "source": [
        "## Evaluating the Model"
      ]
    },
    {
      "cell_type": "code",
      "metadata": {
        "id": "AtsH-lLk-eLb",
        "colab_type": "code",
        "colab": {}
      },
      "source": [
        "score = model.evaluate(X_test, Y_test, verbose=0)"
      ],
      "execution_count": 0,
      "outputs": []
    },
    {
      "cell_type": "code",
      "metadata": {
        "id": "mkX8JMv79q9r",
        "colab_type": "code",
        "outputId": "bcf52db6-c762-4fac-e5ad-6380b8ccbedf",
        "colab": {
          "base_uri": "https://localhost:8080/",
          "height": 34
        }
      },
      "source": [
        "print(score)"
      ],
      "execution_count": 0,
      "outputs": [
        {
          "output_type": "stream",
          "text": [
            "[0.021797702482140448, 0.9931]\n"
          ],
          "name": "stdout"
        }
      ]
    },
    {
      "cell_type": "markdown",
      "metadata": {
        "id": "xrydRMMpFweU",
        "colab_type": "text"
      },
      "source": [
        "## Predicting the Output Data"
      ]
    },
    {
      "cell_type": "code",
      "metadata": {
        "id": "OCWoJkwE9suh",
        "colab_type": "code",
        "colab": {}
      },
      "source": [
        "y_pred = model.predict(X_test)"
      ],
      "execution_count": 0,
      "outputs": []
    },
    {
      "cell_type": "code",
      "metadata": {
        "id": "Ym7iCFBm9uBs",
        "colab_type": "code",
        "outputId": "df33216a-ddc6-4e5c-a4c7-62ce047be0e9",
        "colab": {
          "base_uri": "https://localhost:8080/",
          "height": 487
        }
      },
      "source": [
        "print(y_pred[:9])\n",
        "print(y_test[:9])"
      ],
      "execution_count": 0,
      "outputs": [
        {
          "output_type": "stream",
          "text": [
            "[[3.48710366e-10 3.48710366e-10 1.47163917e-08 1.39840770e-08\n",
            "  3.48710366e-10 3.48710366e-10 3.48710366e-10 9.99999762e-01\n",
            "  3.77452347e-10 1.83954810e-07]\n",
            " [1.31268045e-08 1.25751161e-08 9.99999642e-01 7.49052020e-09\n",
            "  7.49052020e-09 7.49052020e-09 1.78854350e-07 7.49052020e-09\n",
            "  1.43736258e-07 7.49052020e-09]\n",
            " [1.25300289e-07 9.99918699e-01 1.25300289e-07 1.25300289e-07\n",
            "  6.26790279e-05 1.25300289e-07 1.04331355e-06 1.69038740e-05\n",
            "  1.25300289e-07 1.25300289e-07]\n",
            " [9.99497414e-01 5.77239270e-08 5.77239270e-08 5.77239270e-08\n",
            "  5.77239270e-08 1.05511481e-06 4.75584995e-04 5.77239270e-08\n",
            "  8.18435524e-07 2.48703909e-05]\n",
            " [9.73795350e-12 9.73795350e-12 9.73795350e-12 9.73795350e-12\n",
            "  9.99984622e-01 9.73795350e-12 3.22395374e-11 9.73795350e-12\n",
            "  6.75486889e-10 1.53982764e-05]\n",
            " [1.40654123e-07 9.99886870e-01 1.40654123e-07 1.40654123e-07\n",
            "  4.72560823e-05 1.40654123e-07 2.67009341e-07 6.48440982e-05\n",
            "  1.43613875e-07 1.40654123e-07]\n",
            " [5.48867063e-10 5.48867063e-10 5.48867063e-10 5.48867063e-10\n",
            "  9.99978185e-01 5.48867063e-10 5.48867063e-10 4.36273893e-07\n",
            "  3.54185055e-08 2.13123330e-05]\n",
            " [4.99509667e-07 4.99509667e-07 4.99509667e-07 4.99509667e-07\n",
            "  6.40265498e-05 4.99509667e-07 4.99509667e-07 4.99509667e-07\n",
            "  2.98367886e-05 9.99902725e-01]\n",
            " [1.93333394e-09 1.93333394e-09 1.93333394e-09 1.93333394e-09\n",
            "  1.93333394e-09 9.91635442e-01 8.36421922e-03 1.93333394e-09\n",
            "  3.31410121e-07 1.93333394e-09]]\n",
            "[7 2 1 0 4 1 4 9 5]\n"
          ],
          "name": "stdout"
        }
      ]
    },
    {
      "cell_type": "code",
      "metadata": {
        "id": "CT--y98_dr2T",
        "colab_type": "code",
        "colab": {}
      },
      "source": [
        "layer_dict = dict([(layer.name, layer) for layer in model.layers])"
      ],
      "execution_count": 0,
      "outputs": []
    },
    {
      "cell_type": "code",
      "metadata": {
        "id": "2GY4Upv4dsUR",
        "colab_type": "code",
        "colab": {}
      },
      "source": [
        "import numpy as np\n",
        "from matplotlib import pyplot as plt\n",
        "from keras import backend as K\n",
        "%matplotlib inline\n",
        "# util function to convert a tensor into a valid image\n",
        "def deprocess_image(x):\n",
        "    # normalize tensor: center on 0., ensure std is 0.1\n",
        "    x -= x.mean()\n",
        "    x /= (x.std() + 1e-5)\n",
        "    x *= 0.1\n",
        "\n",
        "    # clip to [0, 1]\n",
        "    x += 0.5\n",
        "    x = np.clip(x, 0, 1)\n",
        "\n",
        "    # convert to RGB array\n",
        "    x *= 255\n",
        "    #x = x.transpose((1, 2, 0))\n",
        "    x = np.clip(x, 0, 255).astype('uint8')\n",
        "    return x\n",
        "\n",
        "def vis_img_in_filter(img = np.array(X_train[2]).reshape((1, 28, 28, 1)).astype(np.float64), \n",
        "                      layer_name = 'conv2d_14'):\n",
        "    layer_output = layer_dict[layer_name].output\n",
        "    img_ascs = list()\n",
        "    for filter_index in range(layer_output.shape[3]):\n",
        "        # build a loss function that maximizes the activation\n",
        "        # of the nth filter of the layer considered\n",
        "        loss = K.mean(layer_output[:, :, :, filter_index])\n",
        "\n",
        "        # compute the gradient of the input picture wrt this loss\n",
        "        grads = K.gradients(loss, model.input)[0]\n",
        "\n",
        "        # normalization trick: we normalize the gradient\n",
        "        grads /= (K.sqrt(K.mean(K.square(grads))) + 1e-5)\n",
        "\n",
        "        # this function returns the loss and grads given the input picture\n",
        "        iterate = K.function([model.input], [loss, grads])\n",
        "\n",
        "        # step size for gradient ascent\n",
        "        step = 5.\n",
        "\n",
        "        img_asc = np.array(img)\n",
        "        # run gradient ascent for 20 steps\n",
        "        for i in range(20):\n",
        "            loss_value, grads_value = iterate([img_asc])\n",
        "            img_asc += grads_value * step\n",
        "\n",
        "        img_asc = img_asc[0]\n",
        "        img_ascs.append(deprocess_image(img_asc).reshape((28, 28)))\n",
        "        \n",
        "    if layer_output.shape[3] >= 35:\n",
        "        plot_x, plot_y = 6, 6\n",
        "    elif layer_output.shape[3] >= 23:\n",
        "        plot_x, plot_y = 4, 6\n",
        "    elif layer_output.shape[3] >= 11:\n",
        "        plot_x, plot_y = 2, 6\n",
        "    else:\n",
        "        plot_x, plot_y = 1, 2\n",
        "    fig, ax = plt.subplots(plot_x, plot_y, figsize = (12, 12))\n",
        "    ax[0, 0].imshow(img.reshape((28, 28)), cmap = 'gray')\n",
        "    ax[0, 0].set_title('Input image')\n",
        "    fig.suptitle('Input image and %s filters' % (layer_name,))\n",
        "    fig.tight_layout(pad = 0.3, rect = [0, 0, 0.9, 0.9])\n",
        "    for (x, y) in [(i, j) for i in range(plot_x) for j in range(plot_y)]:\n",
        "        if x == 0 and y == 0:\n",
        "            continue\n",
        "        ax[x, y].imshow(img_ascs[x * plot_y + y - 1], cmap = 'gray')\n",
        "        ax[x, y].set_title('filter %d' % (x * plot_y + y - 1))\n",
        "\n",
        "vis_img_in_filter()"
      ],
      "execution_count": 0,
      "outputs": []
    },
    {
      "cell_type": "code",
      "metadata": {
        "id": "9tvptcn8dxvp",
        "colab_type": "code",
        "colab": {}
      },
      "source": [
        ""
      ],
      "execution_count": 0,
      "outputs": []
    }
  ]
}