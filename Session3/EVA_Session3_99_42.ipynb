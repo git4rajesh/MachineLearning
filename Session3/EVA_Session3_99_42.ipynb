{
  "nbformat": 4,
  "nbformat_minor": 0,
  "metadata": {
    "colab": {
      "name": "EVA_Session3_99.42.ipynb",
      "version": "0.3.2",
      "provenance": [],
      "collapsed_sections": []
    },
    "kernelspec": {
      "name": "python3",
      "display_name": "Python 3"
    },
    "accelerator": "GPU"
  },
  "cells": [
    {
      "cell_type": "markdown",
      "metadata": {
        "id": "aNyZv-Ec52ot",
        "colab_type": "text"
      },
      "source": [
        "# **Import Libraries and modules**"
      ]
    },
    {
      "cell_type": "code",
      "metadata": {
        "id": "3m3w1Cw49Zkt",
        "colab_type": "code",
        "outputId": "020ef812-b2db-4d14-a483-4279958b07e6",
        "colab": {
          "base_uri": "https://localhost:8080/",
          "height": 34
        }
      },
      "source": [
        "# https://keras.io/\n",
        "# Keras is a high-level neural networks API, written in Python and capable of running on top of TensorFlow, CNTK, or Theano.\n",
        "# Performing pip installation of Keras and then importing it\n",
        "\n",
        "!pip install -q keras\n",
        "import keras"
      ],
      "execution_count": 1,
      "outputs": [
        {
          "output_type": "stream",
          "text": [
            "Using TensorFlow backend.\n"
          ],
          "name": "stderr"
        }
      ]
    },
    {
      "cell_type": "markdown",
      "metadata": {
        "id": "1EUGr-fAD3qO",
        "colab_type": "text"
      },
      "source": [
        "## Importing Desired Modules and Classes for this Mode"
      ]
    },
    {
      "cell_type": "code",
      "metadata": {
        "id": "Eso6UHE080D4",
        "colab_type": "code",
        "colab": {}
      },
      "source": [
        "# Used for scientific computing in Python\n",
        "import numpy as np\n",
        "\n",
        "# Used to create models layer-by-layer\n",
        "from keras.models import Sequential\n",
        "\n",
        "# Different layer modules from keras\n",
        "from keras.layers import Dense, Dropout, Activation, Flatten, Add\n",
        "\n",
        "# Used to create a convolution kernel that is convolved with the layer input to produce a tensor of outputs and also for Maxpooling\n",
        "from keras.layers import Convolution2D, MaxPooling2D\n",
        "\n",
        "# Used for Array and list manipulation\n",
        "from keras.utils import np_utils\n",
        "\n",
        "# The MNIST dataset is one of the most common datasets used for image classification \n",
        "# taken from American Census Bureau employees and American high school students\n",
        "from keras.datasets import mnist"
      ],
      "execution_count": 0,
      "outputs": []
    },
    {
      "cell_type": "markdown",
      "metadata": {
        "id": "zByEi95J86RD",
        "colab_type": "text"
      },
      "source": [
        "### Load pre-shuffled MNIST data into train and test sets"
      ]
    },
    {
      "cell_type": "code",
      "metadata": {
        "id": "7eRM0QWN83PV",
        "colab_type": "code",
        "outputId": "bc027581-a121-493b-f729-2800c36a05d5",
        "colab": {
          "base_uri": "https://localhost:8080/",
          "height": 50
        }
      },
      "source": [
        "# Loading dataset of 60,000 28x28 grayscale images of the 10 digits, along with a test set of 10,000 images.\n",
        "(X_train, y_train), (X_test, y_test) = mnist.load_data()"
      ],
      "execution_count": 3,
      "outputs": [
        {
          "output_type": "stream",
          "text": [
            "Downloading data from https://s3.amazonaws.com/img-datasets/mnist.npz\n",
            "11493376/11490434 [==============================] - 2s 0us/step\n"
          ],
          "name": "stdout"
        }
      ]
    },
    {
      "cell_type": "markdown",
      "metadata": {
        "id": "3lawStjsEiMm",
        "colab_type": "text"
      },
      "source": [
        "## Importing and demoing the purpose of Matpotlib"
      ]
    },
    {
      "cell_type": "code",
      "metadata": {
        "id": "4a4Be72j8-ZC",
        "colab_type": "code",
        "outputId": "c96e1eac-27fe-4ff3-d627-5b0b1841f2d6",
        "colab": {
          "base_uri": "https://localhost:8080/",
          "height": 302
        }
      },
      "source": [
        "print (X_train.shape)\n",
        "from matplotlib import pyplot as plt\n",
        "%matplotlib inline\n",
        "plt.imshow(X_train[0])"
      ],
      "execution_count": 4,
      "outputs": [
        {
          "output_type": "stream",
          "text": [
            "(60000, 28, 28)\n"
          ],
          "name": "stdout"
        },
        {
          "output_type": "execute_result",
          "data": {
            "text/plain": [
              "<matplotlib.image.AxesImage at 0x7fc53accbcf8>"
            ]
          },
          "metadata": {
            "tags": []
          },
          "execution_count": 4
        },
        {
          "output_type": "display_data",
          "data": {
            "image/png": "[encoded data removed]",
            "text/plain": [
              "<Figure size 432x288 with 1 Axes>"
            ]
          },
          "metadata": {
            "tags": []
          }
        }
      ]
    },
    {
      "cell_type": "markdown",
      "metadata": {
        "id": "3pDfIMV7En6E",
        "colab_type": "text"
      },
      "source": [
        "## Reshaping the 'X' Training and Test Data to be compatible with Convolution2D"
      ]
    },
    {
      "cell_type": "code",
      "metadata": {
        "id": "dkmprriw9AnZ",
        "colab_type": "code",
        "colab": {}
      },
      "source": [
        "X_train = X_train.reshape(X_train.shape[0], 28, 28,1)\n",
        "X_test = X_test.reshape(X_test.shape[0], 28, 28,1)"
      ],
      "execution_count": 0,
      "outputs": []
    },
    {
      "cell_type": "markdown",
      "metadata": {
        "id": "No0WK3OGEreV",
        "colab_type": "text"
      },
      "source": [
        "## Scaling or Normalizing the inputs"
      ]
    },
    {
      "cell_type": "code",
      "metadata": {
        "id": "X2m4YS4E9CRh",
        "colab_type": "code",
        "colab": {}
      },
      "source": [
        "# It is most common to use 32-bit precision when training a neural network\n",
        "# Since the dataset fits easily in RAM, we might as well convert to float immediately.\n",
        "X_train = X_train.astype('float32')\n",
        "X_test = X_test.astype('float32')\n",
        "\n",
        "# 255 is the maximum value of a byte and this division will ensure that the input features are scaled between 0.0 and 1.0\n",
        "X_train /= 255\n",
        "X_test /= 255"
      ],
      "execution_count": 0,
      "outputs": []
    },
    {
      "cell_type": "code",
      "metadata": {
        "id": "0Mn0vAYD9DvB",
        "colab_type": "code",
        "outputId": "4b9df560-000a-45a2-88d8-ab3de0cd477f",
        "colab": {
          "base_uri": "https://localhost:8080/",
          "height": 34
        }
      },
      "source": [
        "y_train[:10]"
      ],
      "execution_count": 7,
      "outputs": [
        {
          "output_type": "execute_result",
          "data": {
            "text/plain": [
              "array([5, 0, 4, 1, 9, 2, 1, 3, 1, 4], dtype=uint8)"
            ]
          },
          "metadata": {
            "tags": []
          },
          "execution_count": 7
        }
      ]
    },
    {
      "cell_type": "code",
      "metadata": {
        "id": "ZG8JiXR39FHC",
        "colab_type": "code",
        "colab": {}
      },
      "source": [
        "# Convert 1-dimensional class arrays to 10-dimensional class matrices\n",
        "# to_categorical converts this into a matrix with as many columns as there are classes\n",
        "\n",
        "Y_train = np_utils.to_categorical(y_train, 10)\n",
        "Y_test = np_utils.to_categorical(y_test, 10)"
      ],
      "execution_count": 0,
      "outputs": []
    },
    {
      "cell_type": "code",
      "metadata": {
        "id": "fYlFRvKS9HMB",
        "colab_type": "code",
        "outputId": "d16fa9b1-32ad-4b3e-d096-279a2e7ba582",
        "colab": {
          "base_uri": "https://localhost:8080/",
          "height": 185
        }
      },
      "source": [
        "Y_train[:10]\n"
      ],
      "execution_count": 9,
      "outputs": [
        {
          "output_type": "execute_result",
          "data": {
            "text/plain": [
              "array([[0., 0., 0., 0., 0., 1., 0., 0., 0., 0.],\n",
              "       [1., 0., 0., 0., 0., 0., 0., 0., 0., 0.],\n",
              "       [0., 0., 0., 0., 1., 0., 0., 0., 0., 0.],\n",
              "       [0., 1., 0., 0., 0., 0., 0., 0., 0., 0.],\n",
              "       [0., 0., 0., 0., 0., 0., 0., 0., 0., 1.],\n",
              "       [0., 0., 1., 0., 0., 0., 0., 0., 0., 0.],\n",
              "       [0., 1., 0., 0., 0., 0., 0., 0., 0., 0.],\n",
              "       [0., 0., 0., 1., 0., 0., 0., 0., 0., 0.],\n",
              "       [0., 1., 0., 0., 0., 0., 0., 0., 0., 0.],\n",
              "       [0., 0., 0., 0., 1., 0., 0., 0., 0., 0.]], dtype=float32)"
            ]
          },
          "metadata": {
            "tags": []
          },
          "execution_count": 9
        }
      ]
    },
    {
      "cell_type": "markdown",
      "metadata": {
        "id": "1Po1Eu5fE9SM",
        "colab_type": "text"
      },
      "source": [
        "## The Model"
      ]
    },
    {
      "cell_type": "code",
      "metadata": {
        "id": "osKqT73Q9JJB",
        "colab_type": "code",
        "outputId": "2d0c7146-9003-447d-9d1b-af00dadabd26",
        "colab": {
          "base_uri": "https://localhost:8080/",
          "height": 423
        }
      },
      "source": [
        "from keras.layers import Activation\n",
        "\n",
        "# import BatchNormalization\n",
        "from keras.layers.normalization import BatchNormalization\n",
        "\n",
        "# instantiating a model of type Sequential\n",
        "model = Sequential()\n",
        "\n",
        "# adding a convolution layer with input image 28,28,1 with 32 kernels of 3 *3 \n",
        "# also performing an activation of type 'rectified linear Unit'\n",
        "\n",
        "model.add(Convolution2D(16, 3, 3, activation='relu', input_shape=(28,28,1)))\n",
        "print(model.output_shape)\n",
        "\n",
        "# CONVOLUTION BLOCK 1 BEGINS\n",
        "model.add(Convolution2D(16, 3, 3))\n",
        "print(model.output_shape)\n",
        "\n",
        "# Adding a Batch Normalization\n",
        "model.add(BatchNormalization())\n",
        "\n",
        "model.add(Activation('relu'))\n",
        "\n",
        "model.add(Convolution2D(20, 3, 3, activation='relu'))\n",
        "print(model.output_shape)\n",
        "model.add(Convolution2D(32, 3, 3, activation='relu'))\n",
        "print(model.output_shape)\n",
        "# CONVOLUTION BLOCK 1 ENDS\n",
        "\n",
        "# TRANSITION BLOCK 1 BEGINS\n",
        "model.add(MaxPooling2D(pool_size=(2, 2)))\n",
        "model.add(Convolution2D(16, 1, 1))\n",
        "print(model.output_shape)\n",
        "# TRANSITION BLOCK 1 ENDS\n",
        "\n",
        "\n",
        "# CONVOLUTION BLOCK 2 BEGINS\n",
        "model.add(Convolution2D(16, 3, 3, activation='relu'))\n",
        "print(model.output_shape)\n",
        "model.add(Convolution2D(24, 3, 3, activation='relu'))\n",
        "print(model.output_shape)\n",
        "# CONVOLUTION BLOCK 2 ENDS\n",
        "\n",
        "\n",
        "# TRANSITION BLOCK 2 BEGINS\n",
        "model.add(MaxPooling2D(pool_size=(2, 2)))\n",
        "\n",
        "\n",
        "# drop out layer added\n",
        "model.add(Dropout(0.4))\n",
        "\n",
        "model.add(Convolution2D(16,1,1))\n",
        "print(model.output_shape)\n",
        "# TRANSITION BLOCK 2 ENDS\n",
        "\n",
        "\n",
        "model.add(Convolution2D(10, 3, 3))\n",
        "\n",
        "# Adding a Batch Normalization\n",
        "model.add(BatchNormalization())\n",
        "\n",
        "model.add(Activation('relu'))\n",
        "print(model.output_shape)\n",
        "\n",
        "# We need to convert the multidimensional tensor into a single 1-D tensor, so we use Flatten\n",
        "model.add(Flatten()) #input channel = (1,1,10)\n",
        "\n",
        "# softmax calculates the probabilities of each target class over all possible target classes\n",
        "model.add(Activation('softmax'))"
      ],
      "execution_count": 11,
      "outputs": [
        {
          "output_type": "stream",
          "text": [
            "/usr/local/lib/python3.6/dist-packages/ipykernel_launcher.py:12: UserWarning: Update your `Conv2D` call to the Keras 2 API: `Conv2D(16, (3, 3), activation=\"relu\", input_shape=(28, 28, 1...)`\n",
            "  if sys.path[0] == '':\n",
            "/usr/local/lib/python3.6/dist-packages/ipykernel_launcher.py:16: UserWarning: Update your `Conv2D` call to the Keras 2 API: `Conv2D(16, (3, 3))`\n",
            "  app.launch_new_instance()\n"
          ],
          "name": "stderr"
        },
        {
          "output_type": "stream",
          "text": [
            "(None, 26, 26, 16)\n",
            "(None, 24, 24, 16)\n",
            "(None, 22, 22, 20)\n",
            "(None, 20, 20, 32)\n",
            "(None, 10, 10, 16)\n",
            "(None, 8, 8, 16)\n",
            "(None, 6, 6, 24)\n",
            "WARNING:tensorflow:From /usr/local/lib/python3.6/dist-packages/keras/backend/tensorflow_backend.py:3445: calling dropout (from tensorflow.python.ops.nn_ops) with keep_prob is deprecated and will be removed in a future version.\n",
            "Instructions for updating:\n",
            "Please use `rate` instead of `keep_prob`. Rate should be set to `rate = 1 - keep_prob`.\n",
            "(None, 3, 3, 16)\n",
            "(None, 1, 1, 10)\n"
          ],
          "name": "stdout"
        },
        {
          "output_type": "stream",
          "text": [
            "/usr/local/lib/python3.6/dist-packages/ipykernel_launcher.py:23: UserWarning: Update your `Conv2D` call to the Keras 2 API: `Conv2D(20, (3, 3), activation=\"relu\")`\n",
            "/usr/local/lib/python3.6/dist-packages/ipykernel_launcher.py:25: UserWarning: Update your `Conv2D` call to the Keras 2 API: `Conv2D(32, (3, 3), activation=\"relu\")`\n",
            "/usr/local/lib/python3.6/dist-packages/ipykernel_launcher.py:33: UserWarning: Update your `Conv2D` call to the Keras 2 API: `Conv2D(16, (1, 1))`\n",
            "/usr/local/lib/python3.6/dist-packages/ipykernel_launcher.py:39: UserWarning: Update your `Conv2D` call to the Keras 2 API: `Conv2D(16, (3, 3), activation=\"relu\")`\n",
            "/usr/local/lib/python3.6/dist-packages/ipykernel_launcher.py:41: UserWarning: Update your `Conv2D` call to the Keras 2 API: `Conv2D(24, (3, 3), activation=\"relu\")`\n",
            "/usr/local/lib/python3.6/dist-packages/ipykernel_launcher.py:51: UserWarning: Update your `Conv2D` call to the Keras 2 API: `Conv2D(16, (1, 1))`\n",
            "/usr/local/lib/python3.6/dist-packages/ipykernel_launcher.py:56: UserWarning: Update your `Conv2D` call to the Keras 2 API: `Conv2D(10, (3, 3))`\n"
          ],
          "name": "stderr"
        }
      ]
    },
    {
      "cell_type": "code",
      "metadata": {
        "id": "TzdAYg1k9K7Z",
        "colab_type": "code",
        "outputId": "439038f5-069e-4254-b879-f5ef4f889595",
        "colab": {
          "base_uri": "https://localhost:8080/",
          "height": 739
        }
      },
      "source": [
        "# prints a summary representation of our model\n",
        "model.summary()"
      ],
      "execution_count": 12,
      "outputs": [
        {
          "output_type": "stream",
          "text": [
            "_________________________________________________________________\n",
            "Layer (type)                 Output Shape              Param #   \n",
            "=================================================================\n",
            "conv2d_3 (Conv2D)            (None, 26, 26, 16)        160       \n",
            "_________________________________________________________________\n",
            "conv2d_4 (Conv2D)            (None, 24, 24, 16)        2320      \n",
            "_________________________________________________________________\n",
            "batch_normalization_1 (Batch (None, 24, 24, 16)        64        \n",
            "_________________________________________________________________\n",
            "activation_1 (Activation)    (None, 24, 24, 16)        0         \n",
            "_________________________________________________________________\n",
            "conv2d_5 (Conv2D)            (None, 22, 22, 20)        2900      \n",
            "_________________________________________________________________\n",
            "conv2d_6 (Conv2D)            (None, 20, 20, 32)        5792      \n",
            "_________________________________________________________________\n",
            "max_pooling2d_1 (MaxPooling2 (None, 10, 10, 32)        0         \n",
            "_________________________________________________________________\n",
            "conv2d_7 (Conv2D)            (None, 10, 10, 16)        528       \n",
            "_________________________________________________________________\n",
            "conv2d_8 (Conv2D)            (None, 8, 8, 16)          2320      \n",
            "_________________________________________________________________\n",
            "conv2d_9 (Conv2D)            (None, 6, 6, 24)          3480      \n",
            "_________________________________________________________________\n",
            "max_pooling2d_2 (MaxPooling2 (None, 3, 3, 24)          0         \n",
            "_________________________________________________________________\n",
            "dropout_1 (Dropout)          (None, 3, 3, 24)          0         \n",
            "_________________________________________________________________\n",
            "conv2d_10 (Conv2D)           (None, 3, 3, 16)          400       \n",
            "_________________________________________________________________\n",
            "conv2d_11 (Conv2D)           (None, 1, 1, 10)          1450      \n",
            "_________________________________________________________________\n",
            "batch_normalization_2 (Batch (None, 1, 1, 10)          40        \n",
            "_________________________________________________________________\n",
            "activation_2 (Activation)    (None, 1, 1, 10)          0         \n",
            "_________________________________________________________________\n",
            "flatten_1 (Flatten)          (None, 10)                0         \n",
            "_________________________________________________________________\n",
            "activation_3 (Activation)    (None, 10)                0         \n",
            "=================================================================\n",
            "Total params: 19,454\n",
            "Trainable params: 19,402\n",
            "Non-trainable params: 52\n",
            "_________________________________________________________________\n"
          ],
          "name": "stdout"
        }
      ]
    },
    {
      "cell_type": "markdown",
      "metadata": {
        "id": "dsaBiZ46FeDD",
        "colab_type": "text"
      },
      "source": [
        "## Compiling a Model to Train"
      ]
    },
    {
      "cell_type": "code",
      "metadata": {
        "id": "Zp6SuGrL9M3h",
        "colab_type": "code",
        "colab": {}
      },
      "source": [
        "# Configures the model for training with 3 params which are loss, optimizer and metrics\n",
        "model.compile(loss='categorical_crossentropy',\n",
        "             optimizer='adam',\n",
        "             metrics=['accuracy'])"
      ],
      "execution_count": 0,
      "outputs": []
    },
    {
      "cell_type": "markdown",
      "metadata": {
        "id": "koASpomlFiS8",
        "colab_type": "text"
      },
      "source": [
        "## Training the model for a given number of epochs"
      ]
    },
    {
      "cell_type": "code",
      "metadata": {
        "id": "4xWoKhPY9Of5",
        "colab_type": "code",
        "outputId": "cc98379d-06c5-4be5-bc0a-5500e06389e7",
        "colab": {
          "base_uri": "https://localhost:8080/",
          "height": 1146
        }
      },
      "source": [
        "# The model is trained for 20 epochs with batch size of 32\n",
        "model.fit(X_train, Y_train, batch_size=32, nb_epoch=30, verbose=1)"
      ],
      "execution_count": 14,
      "outputs": [
        {
          "output_type": "stream",
          "text": [
            "WARNING:tensorflow:From /usr/local/lib/python3.6/dist-packages/tensorflow/python/ops/math_ops.py:3066: to_int32 (from tensorflow.python.ops.math_ops) is deprecated and will be removed in a future version.\n",
            "Instructions for updating:\n",
            "Use tf.cast instead.\n"
          ],
          "name": "stdout"
        },
        {
          "output_type": "stream",
          "text": [
            "/usr/local/lib/python3.6/dist-packages/ipykernel_launcher.py:1: UserWarning: The `nb_epoch` argument in `fit` has been renamed `epochs`.\n",
            "  \"\"\"Entry point for launching an IPython kernel.\n"
          ],
          "name": "stderr"
        },
        {
          "output_type": "stream",
          "text": [
            "Epoch 1/30\n",
            "60000/60000 [==============================] - 18s 302us/step - loss: 0.5391 - acc: 0.8979\n",
            "Epoch 2/30\n",
            "60000/60000 [==============================] - 15s 251us/step - loss: 0.2210 - acc: 0.9524\n",
            "Epoch 3/30\n",
            "60000/60000 [==============================] - 15s 252us/step - loss: 0.1617 - acc: 0.9623\n",
            "Epoch 4/30\n",
            "60000/60000 [==============================] - 15s 252us/step - loss: 0.1334 - acc: 0.9671\n",
            "Epoch 5/30\n",
            "60000/60000 [==============================] - 16s 268us/step - loss: 0.1137 - acc: 0.9718\n",
            "Epoch 6/30\n",
            "60000/60000 [==============================] - 15s 255us/step - loss: 0.1025 - acc: 0.9741\n",
            "Epoch 7/30\n",
            "60000/60000 [==============================] - 15s 250us/step - loss: 0.0908 - acc: 0.9771\n",
            "Epoch 8/30\n",
            "60000/60000 [==============================] - 15s 252us/step - loss: 0.0830 - acc: 0.9790\n",
            "Epoch 9/30\n",
            "60000/60000 [==============================] - 15s 250us/step - loss: 0.0780 - acc: 0.9792\n",
            "Epoch 10/30\n",
            "60000/60000 [==============================] - 15s 258us/step - loss: 0.0708 - acc: 0.9809\n",
            "Epoch 11/30\n",
            "60000/60000 [==============================] - 16s 265us/step - loss: 0.0669 - acc: 0.9821\n",
            "Epoch 12/30\n",
            "60000/60000 [==============================] - 16s 264us/step - loss: 0.0646 - acc: 0.9827\n",
            "Epoch 13/30\n",
            "60000/60000 [==============================] - 16s 264us/step - loss: 0.0619 - acc: 0.9834\n",
            "Epoch 14/30\n",
            "60000/60000 [==============================] - 16s 264us/step - loss: 0.0599 - acc: 0.9836\n",
            "Epoch 15/30\n",
            "60000/60000 [==============================] - 15s 254us/step - loss: 0.0558 - acc: 0.9847\n",
            "Epoch 16/30\n",
            "60000/60000 [==============================] - 16s 269us/step - loss: 0.0558 - acc: 0.9846\n",
            "Epoch 17/30\n",
            "60000/60000 [==============================] - 15s 251us/step - loss: 0.0504 - acc: 0.9867\n",
            "Epoch 18/30\n",
            "60000/60000 [==============================] - 15s 251us/step - loss: 0.0504 - acc: 0.9862\n",
            "Epoch 19/30\n",
            "60000/60000 [==============================] - 15s 250us/step - loss: 0.0483 - acc: 0.9868\n",
            "Epoch 20/30\n",
            "60000/60000 [==============================] - 15s 251us/step - loss: 0.0476 - acc: 0.9866\n",
            "Epoch 21/30\n",
            "60000/60000 [==============================] - 16s 272us/step - loss: 0.0478 - acc: 0.9870\n",
            "Epoch 22/30\n",
            "60000/60000 [==============================] - 15s 250us/step - loss: 0.0444 - acc: 0.9880\n",
            "Epoch 23/30\n",
            "60000/60000 [==============================] - 15s 251us/step - loss: 0.0435 - acc: 0.9884\n",
            "Epoch 24/30\n",
            "60000/60000 [==============================] - 15s 251us/step - loss: 0.0436 - acc: 0.9879\n",
            "Epoch 25/30\n",
            "60000/60000 [==============================] - 15s 250us/step - loss: 0.0403 - acc: 0.9891\n",
            "Epoch 26/30\n",
            "60000/60000 [==============================] - 16s 273us/step - loss: 0.0401 - acc: 0.9887\n",
            "Epoch 27/30\n",
            "60000/60000 [==============================] - 15s 251us/step - loss: 0.0394 - acc: 0.9893\n",
            "Epoch 28/30\n",
            "60000/60000 [==============================] - 15s 251us/step - loss: 0.0382 - acc: 0.9894\n",
            "Epoch 29/30\n",
            "60000/60000 [==============================] - 15s 250us/step - loss: 0.0374 - acc: 0.9898\n",
            "Epoch 30/30\n",
            "60000/60000 [==============================] - 15s 251us/step - loss: 0.0374 - acc: 0.9898\n"
          ],
          "name": "stdout"
        },
        {
          "output_type": "execute_result",
          "data": {
            "text/plain": [
              "<keras.callbacks.History at 0x7fc537c04c88>"
            ]
          },
          "metadata": {
            "tags": []
          },
          "execution_count": 14
        }
      ]
    },
    {
      "cell_type": "markdown",
      "metadata": {
        "id": "sRvsIuO2Fr6F",
        "colab_type": "text"
      },
      "source": [
        "## Evaluating the Model"
      ]
    },
    {
      "cell_type": "code",
      "metadata": {
        "id": "AtsH-lLk-eLb",
        "colab_type": "code",
        "colab": {}
      },
      "source": [
        "score = model.evaluate(X_test, Y_test, verbose=0)"
      ],
      "execution_count": 0,
      "outputs": []
    },
    {
      "cell_type": "code",
      "metadata": {
        "id": "mkX8JMv79q9r",
        "colab_type": "code",
        "outputId": "11cc89d6-67e0-4e30-de4a-e9c5d3e26099",
        "colab": {
          "base_uri": "https://localhost:8080/",
          "height": 34
        }
      },
      "source": [
        "print(score)"
      ],
      "execution_count": 16,
      "outputs": [
        {
          "output_type": "stream",
          "text": [
            "[0.017940193890733643, 0.9942]\n"
          ],
          "name": "stdout"
        }
      ]
    },
    {
      "cell_type": "markdown",
      "metadata": {
        "id": "xrydRMMpFweU",
        "colab_type": "text"
      },
      "source": [
        "## Predicting the Output Data"
      ]
    },
    {
      "cell_type": "code",
      "metadata": {
        "id": "OCWoJkwE9suh",
        "colab_type": "code",
        "colab": {}
      },
      "source": [
        "y_pred = model.predict(X_test)"
      ],
      "execution_count": 0,
      "outputs": []
    },
    {
      "cell_type": "code",
      "metadata": {
        "id": "Ym7iCFBm9uBs",
        "colab_type": "code",
        "outputId": "3217e26f-2f6f-4b26-e6ed-6001a1216b5b",
        "colab": {
          "base_uri": "https://localhost:8080/",
          "height": 487
        }
      },
      "source": [
        "print(y_pred[:9])\n",
        "print(y_test[:9])"
      ],
      "execution_count": 18,
      "outputs": [
        {
          "output_type": "stream",
          "text": [
            "[[4.15987670e-05 8.75586193e-05 9.61629939e-06 3.24740868e-05\n",
            "  2.05142242e-05 6.90198340e-06 1.78250116e-06 9.99772608e-01\n",
            "  1.78250116e-06 2.51955553e-05]\n",
            " [1.42778126e-05 1.17531075e-04 9.99617934e-01 1.42778126e-05\n",
            "  1.68912011e-05 1.42778126e-05 1.61851858e-04 1.42778126e-05\n",
            "  1.42778126e-05 1.42778126e-05]\n",
            " [2.00969898e-05 9.99906540e-01 2.90089270e-06 1.21939174e-05\n",
            "  1.09895182e-05 4.27511077e-06 6.19113871e-06 2.73694404e-05\n",
            "  2.94283132e-06 6.34425805e-06]\n",
            " [9.98058736e-01 7.64136930e-05 3.47857008e-06 2.09728623e-05\n",
            "  5.35642812e-06 2.46629588e-05 1.71715091e-03 1.13619335e-05\n",
            "  3.72791146e-05 4.45331316e-05]\n",
            " [1.88689546e-06 1.88689546e-06 1.88689546e-06 1.88689546e-06\n",
            "  9.99978662e-01 1.88689546e-06 6.24018730e-06 1.88689546e-06\n",
            "  1.88689546e-06 1.88689546e-06]\n",
            " [1.78857917e-05 9.99940157e-01 1.34389666e-06 5.32521881e-06\n",
            "  1.05529389e-05 2.10361054e-06 3.94684366e-06 1.48498602e-05\n",
            "  1.13176714e-06 2.73812861e-06]\n",
            " [1.16733727e-05 3.87189757e-05 1.16733727e-05 1.16733727e-05\n",
            "  9.99837756e-01 1.16733727e-05 1.16733727e-05 3.79660232e-05\n",
            "  1.55166617e-05 1.16733727e-05]\n",
            " [6.63510000e-05 1.05980434e-03 8.74756020e-04 4.77151443e-05\n",
            "  4.03159036e-04 4.77151443e-05 4.77151443e-05 4.77151443e-05\n",
            "  6.95547496e-05 9.97335494e-01]\n",
            " [3.34000215e-04 3.34000215e-04 3.34000215e-04 3.34000215e-04\n",
            "  3.34000215e-04 9.88540947e-01 7.82343280e-03 3.34000215e-04\n",
            "  1.29769603e-03 3.34000215e-04]]\n",
            "[7 2 1 0 4 1 4 9 5]\n"
          ],
          "name": "stdout"
        }
      ]
    },
    {
      "cell_type": "code",
      "metadata": {
        "id": "CT--y98_dr2T",
        "colab_type": "code",
        "colab": {}
      },
      "source": [
        "layer_dict = dict([(layer.name, layer) for layer in model.layers])"
      ],
      "execution_count": 0,
      "outputs": []
    },
    {
      "cell_type": "code",
      "metadata": {
        "id": "2GY4Upv4dsUR",
        "colab_type": "code",
        "colab": {}
      },
      "source": [
        "import numpy as np\n",
        "from matplotlib import pyplot as plt\n",
        "from keras import backend as K\n",
        "%matplotlib inline\n",
        "# util function to convert a tensor into a valid image\n",
        "def deprocess_image(x):\n",
        "    # normalize tensor: center on 0., ensure std is 0.1\n",
        "    x -= x.mean()\n",
        "    x /= (x.std() + 1e-5)\n",
        "    x *= 0.1\n",
        "\n",
        "    # clip to [0, 1]\n",
        "    x += 0.5\n",
        "    x = np.clip(x, 0, 1)\n",
        "\n",
        "    # convert to RGB array\n",
        "    x *= 255\n",
        "    #x = x.transpose((1, 2, 0))\n",
        "    x = np.clip(x, 0, 255).astype('uint8')\n",
        "    return x\n",
        "\n",
        "def vis_img_in_filter(img = np.array(X_train[2]).reshape((1, 28, 28, 1)).astype(np.float64), \n",
        "                      layer_name = 'conv2d_14'):\n",
        "    layer_output = layer_dict[layer_name].output\n",
        "    img_ascs = list()\n",
        "    for filter_index in range(layer_output.shape[3]):\n",
        "        # build a loss function that maximizes the activation\n",
        "        # of the nth filter of the layer considered\n",
        "        loss = K.mean(layer_output[:, :, :, filter_index])\n",
        "\n",
        "        # compute the gradient of the input picture wrt this loss\n",
        "        grads = K.gradients(loss, model.input)[0]\n",
        "\n",
        "        # normalization trick: we normalize the gradient\n",
        "        grads /= (K.sqrt(K.mean(K.square(grads))) + 1e-5)\n",
        "\n",
        "        # this function returns the loss and grads given the input picture\n",
        "        iterate = K.function([model.input], [loss, grads])\n",
        "\n",
        "        # step size for gradient ascent\n",
        "        step = 5.\n",
        "\n",
        "        img_asc = np.array(img)\n",
        "        # run gradient ascent for 20 steps\n",
        "        for i in range(20):\n",
        "            loss_value, grads_value = iterate([img_asc])\n",
        "            img_asc += grads_value * step\n",
        "\n",
        "        img_asc = img_asc[0]\n",
        "        img_ascs.append(deprocess_image(img_asc).reshape((28, 28)))\n",
        "        \n",
        "    if layer_output.shape[3] >= 35:\n",
        "        plot_x, plot_y = 6, 6\n",
        "    elif layer_output.shape[3] >= 23:\n",
        "        plot_x, plot_y = 4, 6\n",
        "    elif layer_output.shape[3] >= 11:\n",
        "        plot_x, plot_y = 2, 6\n",
        "    else:\n",
        "        plot_x, plot_y = 1, 2\n",
        "    fig, ax = plt.subplots(plot_x, plot_y, figsize = (12, 12))\n",
        "    ax[0, 0].imshow(img.reshape((28, 28)), cmap = 'gray')\n",
        "    ax[0, 0].set_title('Input image')\n",
        "    fig.suptitle('Input image and %s filters' % (layer_name,))\n",
        "    fig.tight_layout(pad = 0.3, rect = [0, 0, 0.9, 0.9])\n",
        "    for (x, y) in [(i, j) for i in range(plot_x) for j in range(plot_y)]:\n",
        "        if x == 0 and y == 0:\n",
        "            continue\n",
        "        ax[x, y].imshow(img_ascs[x * plot_y + y - 1], cmap = 'gray')\n",
        "        ax[x, y].set_title('filter %d' % (x * plot_y + y - 1))\n",
        "\n",
        "vis_img_in_filter()"
      ],
      "execution_count": 0,
      "outputs": []
    },
    {
      "cell_type": "code",
      "metadata": {
        "id": "9tvptcn8dxvp",
        "colab_type": "code",
        "colab": {}
      },
      "source": [
        ""
      ],
      "execution_count": 0,
      "outputs": []
    }
  ]
}